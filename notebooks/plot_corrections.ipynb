{
 "cells": [
  {
   "cell_type": "code",
   "execution_count": 1,
   "id": "b812faca",
   "metadata": {},
   "outputs": [],
   "source": [
    "import os\n",
    "import numpy as np\n",
    "import pandas as pd\n",
    "from matplotlib import pyplot as plt"
   ]
  },
  {
   "cell_type": "code",
   "execution_count": 2,
   "id": "c5fdff29",
   "metadata": {},
   "outputs": [],
   "source": [
    "binning_map = {\n",
    "    'EB': {\n",
    "        'xbins': 171,\n",
    "        'ybins': 360,\n",
    "        'xrange': [-85.0, 86.0],\n",
    "        'yrange': [1.0, 361.0],\n",
    "        'half_binx': 0.5,\n",
    "        'half_biny': 0.5,\n",
    "        'centers_x': np.linspace(-84.5, 85.5, 171),\n",
    "        'centers_y': np.linspace(1.5, 360.5, 360)\n",
    "    },\n",
    "    'EEP':{\n",
    "        'xbins': 100,\n",
    "        'ybins': 100,\n",
    "        'xrange': [1.0, 101.0],\n",
    "        'yrange': [1.0, 101.0],\n",
    "        'half_binx': 0.5,\n",
    "        'half_biny': 0.5,\n",
    "        'centers_x': np.linspace(1.5, 100.5, 100),\n",
    "        'centers_y': np.linspace(1.5, 100.5, 100)\n",
    "    },\n",
    "    'EEM':{\n",
    "        'xbins': 100,\n",
    "        'ybins': 100,\n",
    "        'xrange': [1.0, 101.0],\n",
    "        'yrange': [1.0, 101.0],\n",
    "        'half_binx': 0.5,\n",
    "        'half_biny': 0.5,\n",
    "        'centers_x': np.linspace(1.5, 100.5, 100),\n",
    "        'centers_y': np.linspace(1.5, 100.5, 100)\n",
    "    }\n",
    "}"
   ]
  },
  {
   "cell_type": "code",
   "execution_count": 3,
   "id": "8f1750f2",
   "metadata": {},
   "outputs": [],
   "source": [
    "def plot_corrections(filename, start_run, end_run):\n",
    "    \n",
    "    runs = [start_run, end_run]\n",
    "    \n",
    "    with open(filename, 'r') as f:\n",
    "        lines = f.readlines()\n",
    "\n",
    "    lines = [ l.strip('\\r\\n').split('\\t') for l in lines ]\n",
    "\n",
    "    eb_corrections = []\n",
    "    eep_corrections = []\n",
    "    eem_corrections = []\n",
    "\n",
    "    eb_ix = []\n",
    "    eb_iy = []\n",
    "    eep_ix = []\n",
    "    eep_iy = []\n",
    "    eem_ix = []\n",
    "    eem_iy = []\n",
    "\n",
    "    for l in lines:\n",
    "        if l[2]=='0':\n",
    "            eb_corrections.append(float(l[3]))\n",
    "            eb_ix.append(int(l[0]))\n",
    "            eb_iy.append(int(l[1]))\n",
    "        elif l[2]=='1':\n",
    "            eep_corrections.append(float(l[3]))\n",
    "            eep_ix.append(int(l[0]))\n",
    "            eep_iy.append(int(l[1]))\n",
    "        elif l[2]=='-1':\n",
    "            eem_corrections.append(float(l[3]))\n",
    "            eem_ix.append(int(l[0]))\n",
    "            eem_iy.append(int(l[1]))\n",
    "    \n",
    "    eb_corrections = np.array(eb_corrections)\n",
    "    eep_corrections = np.array(eep_corrections)\n",
    "    eem_corrections = np.array(eem_corrections)\n",
    "    \n",
    "    eb_corrections = eb_corrections[~np.isnan(eb_corrections)]\n",
    "    eep_corrections = eep_corrections[~np.isnan(eep_corrections)]\n",
    "    eem_corrections = eem_corrections[~np.isnan(eem_corrections)]\n",
    "\n",
    "    plt.clf()\n",
    "    plt.figure(figsize=(6.6,6.6))\n",
    "    h1 = plt.hist(eb_corrections, histtype='step', bins=50, range=(-4, 4), label='EB', color='tab:blue', linewidth=2, density=True)\n",
    "    h2 = plt.hist(eep_corrections, histtype='step', bins=50, range=(-4, 4), label='EE+', color='tab:orange', linewidth=2, density=True)\n",
    "    h3 = plt.hist(eem_corrections, histtype='step', bins=50, range=(-4, 4), label='EE-', color='tab:green', linewidth=2, density=True)\n",
    "    plt.xlabel('Time (ns)', fontsize=14)\n",
    "    plt.ylabel('a.u.', fontsize=14)\n",
    "    plt.title('Average Time/ crystal ({}-{})'.format(runs[0],runs[1]), fontsize=16)\n",
    "    plt.legend(loc='upper left', fontsize=14)\n",
    "    maxy = max(np.concatenate((h1[0],h2[0],h3[0])))\n",
    "    plt.text(x=-4, y=maxy*0.5, s='EB (mean)={:.2f} ns'.format(np.mean(np.array(eb_corrections)[~np.isnan(eb_corrections)])))\n",
    "    plt.text(x=-4, y=maxy*0.5*(1.75/2), s='EE+ (mean)={:.2f} ns'.format(np.mean(np.array(eep_corrections)[~np.isnan(eep_corrections)])))\n",
    "    plt.text(x=-4, y=maxy*0.5*(1.5/2), s='EE- (mean)={:.2f} ns'.format(np.mean(np.array(eem_corrections)[~np.isnan(eem_corrections)])))\n",
    "    plt.savefig(filename.replace('.dat','.png'))\n",
    "    #plt.yscale('log')\n",
    "    print('{:0.2f} {:0.2f} {:0.2f}'.format(np.mean(eb_corrections), np.mean(eep_corrections), np.mean(eem_corrections)))\n",
    "    return h1, h2, h3"
   ]
  },
  {
   "cell_type": "code",
   "execution_count": 4,
   "id": "3d7f8681",
   "metadata": {},
   "outputs": [],
   "source": [
    "def plot_2d_map(filename='/eos/cms/store/group/dpg_ecal/alca_ecalcalib/EcalTiming/Run2022F/Calibration/360486_360491_tCut_10/ecalTiming-corr.dat',\n",
    "                start_run=360486,\n",
    "                end_run=360491):\n",
    "    average_time_map = {}\n",
    "    runs = [start_run, end_run]\n",
    "\n",
    "    with open(filename, 'r') as f:\n",
    "        lines = f.readlines()\n",
    "\n",
    "    lines = [ l.strip('\\r\\n').split('\\t') for l in lines ]\n",
    "\n",
    "    eb_corrections = []\n",
    "    eep_corrections = []\n",
    "    eem_corrections = []\n",
    "\n",
    "    eb_ix = []\n",
    "    eb_iy = []\n",
    "    eep_ix = []\n",
    "    eep_iy = []\n",
    "    eem_ix = []\n",
    "    eem_iy = []\n",
    "\n",
    "    for l in lines:\n",
    "        if l[2]=='0':\n",
    "            eb_corrections.append(float(l[3]))\n",
    "            eb_ix.append(int(l[0]))\n",
    "            eb_iy.append(int(l[1]))\n",
    "        elif l[2]=='1':\n",
    "            eep_corrections.append(float(l[3]))\n",
    "            eep_ix.append(int(l[0]))\n",
    "            eep_iy.append(int(l[1]))\n",
    "        elif l[2]=='-1':\n",
    "            eem_corrections.append(float(l[3]))\n",
    "            eem_ix.append(int(l[0]))\n",
    "            eem_iy.append(int(l[1]))\n",
    "\n",
    "    D = {'EB': (eb_ix, eb_iy, eb_corrections),\n",
    "        'EEM': (eem_ix, eem_iy, eem_corrections),\n",
    "        'EEP': (eep_ix, eep_iy, eep_corrections)}  \n",
    "\n",
    "    for region in ['EB','EEP','EEM']:\n",
    "\n",
    "        zpos = 0\n",
    "        if region=='EEP': zpos = 1\n",
    "        elif region=='EEM': zpos = -1\n",
    "\n",
    "        xbins = binning_map[region]['xbins']\n",
    "        ybins = binning_map[region]['ybins']\n",
    "        xrange = binning_map[region]['xrange']\n",
    "        yrange = binning_map[region]['yrange']\n",
    "        half_binx = binning_map[region]['half_binx']\n",
    "        half_biny = binning_map[region]['half_biny']\n",
    "\n",
    "        Ax = D[region][0]\n",
    "        Ay = D[region][1]\n",
    "        T = D[region][2]\n",
    "\n",
    "        Mx = ((binning_map[region]['centers_x'].reshape(xbins,1))*np.ones(ybins)).flatten() \n",
    "        My = ((binning_map[region]['centers_y'].reshape(ybins,1))*np.ones(xbins)).T.flatten()\n",
    "\n",
    "        unit = ' (ns)'\n",
    "        cmap_='bwr'\n",
    "\n",
    "        if region=='EB':\n",
    "            xlabel_ = 'i$\\eta$'\n",
    "            ylabel_ = 'i$\\phi$'\n",
    "        else:\n",
    "            xlabel_ = 'ix'\n",
    "            ylabel_ = 'iy'\n",
    "\n",
    "        plt.clf()\n",
    "        plt.figure(figsize=(7.7,6.6))\n",
    "\n",
    "        fill_time = plt.hist2d(Ax, Ay, weights=T,\n",
    "                        range=(tuple(xrange), tuple(yrange)), bins=(xbins, ybins), cmap=cmap_)\n",
    "\n",
    "        plt.xlabel(xlabel_, fontsize=14)\n",
    "        plt.ylabel(ylabel_, fontsize=14)\n",
    "        plt.title('Average Time '+region+unit, fontsize=16)\n",
    "\n",
    "        plt.colorbar()\n",
    "        plt.clim(-5, 5)       \n",
    "        plt.savefig(filename.replace('.dat','{}.png'.format(region)))\n"
   ]
  },
  {
   "cell_type": "code",
   "execution_count": 7,
   "id": "5030d8d1",
   "metadata": {},
   "outputs": [
    {
     "name": "stdout",
     "output_type": "stream",
     "text": [
      "-0.03 -0.00 -0.01\n"
     ]
    },
    {
     "data": {
      "text/plain": [
       "<Figure size 432x288 with 0 Axes>"
      ]
     },
     "metadata": {},
     "output_type": "display_data"
    },
    {
     "data": {
      "text/plain": [
       "<Figure size 554.4x475.2 with 0 Axes>"
      ]
     },
     "metadata": {},
     "output_type": "display_data"
    },
    {
     "data": {
      "text/plain": [
       "<Figure size 554.4x475.2 with 0 Axes>"
      ]
     },
     "metadata": {},
     "output_type": "display_data"
    },
    {
     "data": {
      "text/plain": [
       "<Figure size 554.4x475.2 with 0 Axes>"
      ]
     },
     "metadata": {},
     "output_type": "display_data"
    },
    {
     "data": {
      "image/png": "[encoded data removed]",
      "text/plain": [
       "<Figure size 475.2x475.2 with 1 Axes>"
      ]
     },
     "metadata": {
      "needs_background": "light"
     },
     "output_type": "display_data"
    }
   ],
   "source": [
    "file='/eos/cms/store/group/dpg_ecal/alca_ecalcalib/EcalTiming/Run2023C/Calibration/367516_367554_tCut_10/ecalTiming-corr_validation.dat'\n",
    "runs = file.split('/')[-2]\n",
    "runs = runs.split('_')\n",
    "srun = runs[0]\n",
    "erun = runs[1]\n",
    "plot_2d_map(file,srun,erun)\n",
    "_,__,___ = plot_corrections(file,srun,erun)"
   ]
  }
 ],
 "metadata": {
  "kernelspec": {
   "display_name": "Python 3",
   "language": "python",
   "name": "python3"
  },
  "language_info": {
   "codemirror_mode": {
    "name": "ipython",
    "version": 3
   },
   "file_extension": ".py",
   "mimetype": "text/x-python",
   "name": "python",
   "nbconvert_exporter": "python",
   "pygments_lexer": "ipython3",
   "version": "3.9.12"
  }
 },
 "nbformat": 4,
 "nbformat_minor": 5
}
