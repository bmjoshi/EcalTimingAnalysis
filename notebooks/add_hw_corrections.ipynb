{
 "cells": [
  {
   "cell_type": "code",
   "execution_count": 1,
   "id": "a20614f9",
   "metadata": {},
   "outputs": [],
   "source": [
    "import numpy as np\n",
    "import pickle\n",
    "import uproot\n",
    "from matplotlib import pyplot as plt"
   ]
  },
  {
   "cell_type": "code",
   "execution_count": 2,
   "id": "9f599985",
   "metadata": {},
   "outputs": [],
   "source": [
    "GLOBAL_EB_SHIFT = 2.0\n",
    "GLOBAL_EE_SHIFT = 1.0"
   ]
  },
  {
   "cell_type": "code",
   "execution_count": 3,
   "id": "934aa852",
   "metadata": {},
   "outputs": [],
   "source": [
    "datfile='/eos/user/b/bjoshi/www/ECAL_timing/Run2023C/Calibration/368822_368823_tCut_10_global_shift/ecalTiming-corr.dat'"
   ]
  },
  {
   "cell_type": "code",
   "execution_count": 3,
   "id": "563f02c2",
   "metadata": {},
   "outputs": [],
   "source": [
    "!mkdir /eos/user/b/bjoshi/www/ECAL_timing/Run2023C/Calibration/368331_368384_tCut_10_global_shift"
   ]
  },
  {
   "cell_type": "code",
   "execution_count": 4,
   "id": "46663bf6",
   "metadata": {},
   "outputs": [],
   "source": [
    "datfile='/eos/user/b/bjoshi/www/ECAL_timing/Run2023C/Calibration/368331_368384_tCut_10_global_shift/ecalTiming-corr.dat'"
   ]
  },
  {
   "cell_type": "code",
   "execution_count": 38,
   "id": "343da575",
   "metadata": {},
   "outputs": [],
   "source": [
    "datfile='/eos/user/b/bjoshi/www/ECAL_timing/Run2023B/Calibration/366441_366442_tCut_10/ecalTiming-corr-ccu.dat'\n",
    "histfile = '/eos/user/b/bjoshi/www/ECAL_timing/HW_scans/27_04_2023/post_2023_corrections_roundup/delay_maps.root'"
   ]
  },
  {
   "cell_type": "code",
   "execution_count": 5,
   "id": "c03c280b",
   "metadata": {},
   "outputs": [],
   "source": [
    "with open(datfile, 'r') as f:\n",
    "    lines = f.readlines()\n",
    "\n",
    "lines = [ l.strip('\\r\\n').split('\\t') for l in lines if l!='']\n",
    "\n",
    "eb_corrections = []\n",
    "eep_corrections = []\n",
    "eem_corrections = []\n",
    "\n",
    "eb_ix = []\n",
    "eb_iy = []\n",
    "eep_ix = []\n",
    "eep_iy = []\n",
    "eem_ix = []\n",
    "eem_iy = []\n",
    "\n",
    "eb_append_str = []\n",
    "eem_append_str = []\n",
    "eep_append_str = []\n",
    "\n",
    "for l in lines:\n",
    "    if l[2]=='0':\n",
    "        eb_corrections.append(float(l[3]))\n",
    "        eb_ix.append(int(l[0]))\n",
    "        eb_iy.append(int(l[1]))\n",
    "        eb_append_str.append('\\t'.join(l[4:]))\n",
    "    elif l[2]=='1':\n",
    "        eep_corrections.append(float(l[3]))\n",
    "        eep_ix.append(int(l[0]))\n",
    "        eep_iy.append(int(l[1]))\n",
    "        eep_append_str.append('\\t'.join(l[4:]))\n",
    "    elif l[2]=='-1':\n",
    "        eem_corrections.append(float(l[3]))\n",
    "        eem_ix.append(int(l[0]))\n",
    "        eem_iy.append(int(l[1]))\n",
    "        eem_append_str.append('\\t'.join(l[4:]))"
   ]
  },
  {
   "cell_type": "code",
   "execution_count": null,
   "id": "d0fa47e4",
   "metadata": {
    "scrolled": true
   },
   "outputs": [],
   "source": [
    "hw_delays = uproot.open(histfile)"
   ]
  },
  {
   "cell_type": "code",
   "execution_count": 41,
   "id": "676f3c27",
   "metadata": {},
   "outputs": [],
   "source": [
    "eb_delay = hw_delays['h2mapEBInt'].to_numpy()[0]\n",
    "eep_delay = hw_delays['h2mappInt'].to_numpy()[0]\n",
    "eem_delay = hw_delays['h2mapnInt'].to_numpy()[0]"
   ]
  },
  {
   "cell_type": "code",
   "execution_count": 42,
   "id": "e93a49f4",
   "metadata": {},
   "outputs": [],
   "source": [
    "eb_corrections_with_delay = []\n",
    "eep_corrections_with_delay = []\n",
    "eem_corrections_with_delay = []\n",
    "\n",
    "# insert EB delays\n",
    "for ixtal,(ix,iy,dt) in enumerate(zip(eb_ix,eb_iy,eb_corrections)):\n",
    "    eb_corrections_with_delay.append(dt+eb_delay[ix-1][iy-1]+GLOBAL_EB_SHIFT)\n",
    "# insert EE+ delays\n",
    "for ixtal,(ix,iy,dt) in enumerate(zip(eep_ix,eep_iy,eep_corrections)):\n",
    "    eep_corrections_with_delay.append(dt+eep_delay[ix-1][iy-1])\n",
    "# insert EE- delays\n",
    "for ixtal,(ix,iy,dt) in enumerate(zip(eem_ix,eem_iy,eem_corrections)):\n",
    "    eem_corrections_with_delay.append(dt+eem_delay[ix-1][iy-1])"
   ]
  },
  {
   "cell_type": "code",
   "execution_count": 43,
   "id": "07e65cd1",
   "metadata": {},
   "outputs": [],
   "source": [
    "with open('tmp.txt','w') as ofile:\n",
    "    for ixtal in range(len(eb_corrections)):\n",
    "        str_ = '{:d}\\t{:d}\\t{:d}\\t{:0.4f}\\t'.format(eb_ix[ixtal],eb_iy[ixtal],0,eb_corrections_with_delay[ixtal])\n",
    "        str_ += eb_append_str[ixtal]\n",
    "        str_ += '\\n'\n",
    "        ofile.write(str_)\n",
    "    for ixtal in range(len(eem_corrections)):\n",
    "        str_ = '{:d}\\t{:d}\\t{:d}\\t{:0.4f}\\t'.format(eem_ix[ixtal],eem_iy[ixtal],-1,eem_corrections_with_delay[ixtal])\n",
    "        str_ += eem_append_str[ixtal]\n",
    "        str_ += '\\n'\n",
    "        ofile.write(str_)\n",
    "    for ixtal in range(len(eep_corrections)):\n",
    "        str_ = '{:d}\\t{:d}\\t{:d}\\t{:0.4f}\\t'.format(eep_ix[ixtal],eep_iy[ixtal],1,eep_corrections_with_delay[ixtal])\n",
    "        str_ += eep_append_str[ixtal]\n",
    "        str_ += '\\n'\n",
    "        ofile.write(str_)"
   ]
  },
  {
   "cell_type": "code",
   "execution_count": 44,
   "id": "40697725",
   "metadata": {},
   "outputs": [],
   "source": [
    "!mv tmp.txt /eos/user/b/bjoshi/www/ECAL_timing/Run2023B/Calibration/366441_366442_tCut_10/ecalTiming-corr-with-inv-hw-delay-ccu_shift_minus_1.dat"
   ]
  },
  {
   "cell_type": "markdown",
   "id": "f21b6bd4",
   "metadata": {},
   "source": [
    "Add global shifts without any FE offset delay corrections."
   ]
  },
  {
   "cell_type": "code",
   "execution_count": 7,
   "id": "9e080aab",
   "metadata": {},
   "outputs": [],
   "source": [
    "eb_corrections_with_delay = []\n",
    "eep_corrections_with_delay = []\n",
    "eem_corrections_with_delay = []\n",
    "\n",
    "# insert EB delays\n",
    "for ixtal,(ix,iy,dt) in enumerate(zip(eb_ix,eb_iy,eb_corrections)):\n",
    "    eb_corrections_with_delay.append(dt+GLOBAL_EB_SHIFT)\n",
    "# insert EE+ delays\n",
    "for ixtal,(ix,iy,dt) in enumerate(zip(eep_ix,eep_iy,eep_corrections)):\n",
    "    eep_corrections_with_delay.append(dt+GLOBAL_EE_SHIFT)\n",
    "# insert EE- delays\n",
    "for ixtal,(ix,iy,dt) in enumerate(zip(eem_ix,eem_iy,eem_corrections)):\n",
    "    eem_corrections_with_delay.append(dt+GLOBAL_EE_SHIFT)"
   ]
  },
  {
   "cell_type": "code",
   "execution_count": 8,
   "id": "9e6b8983",
   "metadata": {},
   "outputs": [],
   "source": [
    "with open('tmp.txt','w') as ofile:\n",
    "    for ixtal in range(len(eb_corrections)):\n",
    "        str_ = '{:d}\\t{:d}\\t{:d}\\t{:0.4f}\\t'.format(eb_ix[ixtal],eb_iy[ixtal],0,eb_corrections_with_delay[ixtal])\n",
    "        str_ += eb_append_str[ixtal]\n",
    "        str_ += '\\n'\n",
    "        ofile.write(str_)\n",
    "    for ixtal in range(len(eem_corrections)):\n",
    "        str_ = '{:d}\\t{:d}\\t{:d}\\t{:0.4f}\\t'.format(eem_ix[ixtal],eem_iy[ixtal],-1,eem_corrections_with_delay[ixtal])\n",
    "        str_ += eem_append_str[ixtal]\n",
    "        str_ += '\\n'\n",
    "        ofile.write(str_)\n",
    "    for ixtal in range(len(eep_corrections)):\n",
    "        str_ = '{:d}\\t{:d}\\t{:d}\\t{:0.4f}\\t'.format(eep_ix[ixtal],eep_iy[ixtal],1,eep_corrections_with_delay[ixtal])\n",
    "        str_ += eep_append_str[ixtal]\n",
    "        str_ += '\\n'\n",
    "        ofile.write(str_)"
   ]
  },
  {
   "cell_type": "code",
   "execution_count": 9,
   "id": "5677efb1",
   "metadata": {},
   "outputs": [],
   "source": [
    "!mv tmp.txt /eos/user/b/bjoshi/www/ECAL_timing/Run2023C/Calibration/368331_368384_tCut_10_global_shift/ecalTiming-corr_with_global_shift_plus.dat"
   ]
  }
 ],
 "metadata": {
  "@webio": {
   "lastCommId": null,
   "lastKernelId": null
  },
  "kernelspec": {
   "display_name": "Python 3",
   "language": "python",
   "name": "python3"
  },
  "language_info": {
   "codemirror_mode": {
    "name": "ipython",
    "version": 3
   },
   "file_extension": ".py",
   "mimetype": "text/x-python",
   "name": "python",
   "nbconvert_exporter": "python",
   "pygments_lexer": "ipython3",
   "version": "3.9.12"
  }
 },
 "nbformat": 4,
 "nbformat_minor": 5
}
