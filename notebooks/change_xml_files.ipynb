{
 "cells": [
  {
   "cell_type": "code",
   "execution_count": 1,
   "id": "364a5f8c",
   "metadata": {},
   "outputs": [
    {
     "name": "stdout",
     "output_type": "stream",
     "text": [
      "Welcome to JupyROOT 6.28/00\n"
     ]
    }
   ],
   "source": [
    "import os\n",
    "import subprocess\n",
    "from ROOT import TXMLEngine, XMLDocPointer_t, XMLNodePointer_t, Int_t\n",
    "from ROOT import TFile, TTree\n",
    "import numpy as np\n",
    "import pandas as pd\n",
    "\n",
    "from datetime import datetime\n",
    "import dateutil\n",
    "\n",
    "from matplotlib import pyplot as plt\n",
    "import matplotlib.dates as mdates"
   ]
  },
  {
   "cell_type": "code",
   "execution_count": 16,
   "id": "fa1860c4",
   "metadata": {},
   "outputs": [],
   "source": [
    "def readCalibXML(filename):\n",
    "    xml = TXMLEngine();\n",
    "    xmldoc = xml.ParseFile(filename);\n",
    "    root = xml.DocGetRootElement(xmldoc);\n",
    "    cmsCondPayload = xml.GetChild(root)\n",
    "    eb = xml.GetChild(cmsCondPayload)\n",
    "    ee = xml.GetNext(eb)\n",
    "    eb_calib = xml.GetChild(eb)\n",
    "    ee_calib = xml.GetChild(ee)\n",
    "    eb_abs_calib = []\n",
    "    cnode = xml.GetChild(eb_calib) # counts\n",
    "    eb_counts = int(xml.GetNodeContent(cnode)) # number of EB crystals\n",
    "    cnode = xml.GetNext(cnode)\n",
    "    cnode = xml.GetNext(cnode)\n",
    "    i = 0\n",
    "    for i in range(eb_counts):\n",
    "        eb_abs_calib.append(float(xml.GetNodeContent(cnode)))\n",
    "        i += 1\n",
    "        if i%10000==1: print(i,eb_counts)\n",
    "        cnode = xml.GetNext(cnode)\n",
    "    ee_abs_calib = []\n",
    "    cnode = xml.GetChild(ee_calib) # counts\n",
    "    ee_counts = int(xml.GetNodeContent(cnode)) # number of EB crystals\n",
    "    cnode = xml.GetNext(cnode)\n",
    "    cnode = xml.GetNext(cnode)\n",
    "    i = 0\n",
    "    for i in range(ee_counts):\n",
    "        ee_abs_calib.append(float(xml.GetNodeContent(cnode)))\n",
    "        i += 1\n",
    "        if i%10000==1: print(i,ee_counts)\n",
    "        cnode = xml.GetNext(cnode)\n",
    "    return np.array(eb_abs_calib),np.array(ee_abs_calib)"
   ]
  },
  {
   "cell_type": "code",
   "execution_count": 18,
   "id": "cf19792e",
   "metadata": {},
   "outputs": [],
   "source": [
    "def writeCalibXML(filename, eb_abs_calib, ee_abs_calib, eb_global_shift_=0.0, ee_global_shift_=0.0):\n",
    "    ebclass_begin_txt = '''<?xml version=\"1.0\" encoding=\"UTF-8\" standalone=\"yes\" ?>\n",
    "    <!DOCTYPE boost_serialization>\n",
    "    <boost_serialization signature=\"serialization::archive\" version=\"19\">\n",
    "    <cmsCondPayload class_id=\"0\" tracking_level=\"0\" version=\"0\">\n",
    "        <eb- class_id=\"1\" tracking_level=\"0\" version=\"0\">\n",
    "            <m_items>\n",
    "                <count>61200</count>\n",
    "                <item_version>0</item_version>\n",
    "                \n",
    "    '''\n",
    "    eeclass_end_txt = '''        </m_items>\n",
    "        </ee->\n",
    "    </cmsCondPayload>\n",
    "    </boost_serialization>\n",
    "    '''\n",
    "    ebclass_end_txt = '''        </m_items>\n",
    "        </eb->\n",
    "        <ee- class_id=\"3\" tracking_level=\"0\" version=\"0\">\n",
    "            <m_items>\n",
    "                <count>14648</count>\n",
    "                <item_version>0</item_version>\n",
    "                \n",
    "    '''\n",
    "    with open(filename, 'w+') as f0:\n",
    "        f0.write(ebclass_begin_txt)\n",
    "        for val in eb_abs_calib:\n",
    "            f0.write('\\t\\t\\t\\t<item>{:0.9E}</item>\\n'.format(val-eb_global_shift_))\n",
    "        f0.write(ebclass_end_txt)\n",
    "        for val in ee_abs_calib:\n",
    "            f0.write('\\t\\t\\t\\t<item>{:0.9E}</item>\\n'.format(val-ee_global_shift_))\n",
    "        f0.write(eeclass_end_txt)"
   ]
  },
  {
   "cell_type": "code",
   "execution_count": 19,
   "id": "4b48573b",
   "metadata": {},
   "outputs": [
    {
     "name": "stdout",
     "output_type": "stream",
     "text": [
      "1 61200\n",
      "10001 61200\n",
      "20001 61200\n",
      "30001 61200\n",
      "40001 61200\n",
      "50001 61200\n",
      "60001 61200\n",
      "1 14648\n",
      "10001 14648\n"
     ]
    }
   ],
   "source": [
    "xmlfile = '/eos/user/b/bjoshi/www/ECAL_timing/Run2023C/Calibration/368331_368384_tCut_10_global_shift/ecalTiming-abs_2023_06_05.xml'\n",
    "EB, EE = readCalibXML(xmlfile)\n",
    "newxmlfile = '/eos/user/b/bjoshi/www/ECAL_timing/Run2023C/Calibration/368331_368384_tCut_10_global_shift/ecalTiming-abs_2023_06_30_direct.xml'\n",
    "writeCalibXML(newxmlfile, EB, EE, eb_global_shift_=2.00, ee_global_shift_=1.0)"
   ]
  },
  {
   "cell_type": "code",
   "execution_count": null,
   "id": "a3f6fcee",
   "metadata": {},
   "outputs": [],
   "source": []
  }
 ],
 "metadata": {
  "kernelspec": {
   "display_name": "Python 3",
   "language": "python",
   "name": "python3"
  },
  "language_info": {
   "codemirror_mode": {
    "name": "ipython",
    "version": 3
   },
   "file_extension": ".py",
   "mimetype": "text/x-python",
   "name": "python",
   "nbconvert_exporter": "python",
   "pygments_lexer": "ipython3",
   "version": "3.9.12"
  }
 },
 "nbformat": 4,
 "nbformat_minor": 5
}
